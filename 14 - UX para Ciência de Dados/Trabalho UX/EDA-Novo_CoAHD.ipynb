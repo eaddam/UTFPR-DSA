{
 "cells": [
  {
   "cell_type": "code",
   "execution_count": 1,
   "id": "3c01bcc2",
   "metadata": {},
   "outputs": [],
   "source": [
    "#importando Pandas\n",
    "import pandas as pd\n",
    "import dtale as dtale\n",
    "\n",
    "from ydata_profiling import ProfileReport  \n",
    "import warnings\n",
    "warnings.filterwarnings('ignore')"
   ]
  },
  {
   "cell_type": "code",
   "execution_count": 2,
   "id": "db4f3c08",
   "metadata": {},
   "outputs": [],
   "source": [
    "#Criando o DF\n",
    "df = pd.read_csv('../Trabalho UX/CoAHD-Normalized.csv', sep=',', encoding='ANSI',low_memory=False)"
   ]
  },
  {
   "cell_type": "code",
   "execution_count": 3,
   "id": "332e0803",
   "metadata": {},
   "outputs": [
    {
     "data": {
      "text/plain": [
       "Index(['Area Code', 'Area Code (M49)', 'Area', 'Item Code', 'Item',\n",
       "       'Element Code', 'Element', 'Year Code', 'Year', 'Unit', 'Value',\n",
       "       'Flag'],\n",
       "      dtype='object')"
      ]
     },
     "execution_count": 3,
     "metadata": {},
     "output_type": "execute_result"
    }
   ],
   "source": [
    "#vendo as colunas\n",
    "df.columns"
   ]
  },
  {
   "cell_type": "code",
   "execution_count": 4,
   "id": "896b3e6d",
   "metadata": {},
   "outputs": [
    {
     "data": {
      "text/plain": [
       "220"
      ]
     },
     "execution_count": 4,
     "metadata": {},
     "output_type": "execute_result"
    }
   ],
   "source": [
    "#contando quantos paises\n",
    "df['Area'].nunique()"
   ]
  },
  {
   "cell_type": "code",
   "execution_count": 5,
   "id": "661e387b",
   "metadata": {},
   "outputs": [
    {
     "data": {
      "text/html": [
       "<div>\n",
       "<style scoped>\n",
       "    .dataframe tbody tr th:only-of-type {\n",
       "        vertical-align: middle;\n",
       "    }\n",
       "\n",
       "    .dataframe tbody tr th {\n",
       "        vertical-align: top;\n",
       "    }\n",
       "\n",
       "    .dataframe thead th {\n",
       "        text-align: right;\n",
       "    }\n",
       "</style>\n",
       "<table border=\"1\" class=\"dataframe\">\n",
       "  <thead>\n",
       "    <tr style=\"text-align: right;\">\n",
       "      <th></th>\n",
       "      <th>Area Code</th>\n",
       "      <th>Area Code (M49)</th>\n",
       "      <th>Area</th>\n",
       "      <th>Item Code</th>\n",
       "      <th>Item</th>\n",
       "      <th>Element Code</th>\n",
       "      <th>Element</th>\n",
       "      <th>Year Code</th>\n",
       "      <th>Year</th>\n",
       "      <th>Unit</th>\n",
       "      <th>Value</th>\n",
       "      <th>Flag</th>\n",
       "    </tr>\n",
       "  </thead>\n",
       "  <tbody>\n",
       "    <tr>\n",
       "      <th>0</th>\n",
       "      <td>3</td>\n",
       "      <td>'008</td>\n",
       "      <td>Albania</td>\n",
       "      <td>7004</td>\n",
       "      <td>Cost of a healthy diet (PPP dollar per person ...</td>\n",
       "      <td>6226</td>\n",
       "      <td>Value</td>\n",
       "      <td>2017</td>\n",
       "      <td>2017</td>\n",
       "      <td>PPP dollar per person per day</td>\n",
       "      <td>3.952</td>\n",
       "      <td>E</td>\n",
       "    </tr>\n",
       "    <tr>\n",
       "      <th>1</th>\n",
       "      <td>3</td>\n",
       "      <td>'008</td>\n",
       "      <td>Albania</td>\n",
       "      <td>7004</td>\n",
       "      <td>Cost of a healthy diet (PPP dollar per person ...</td>\n",
       "      <td>6226</td>\n",
       "      <td>Value</td>\n",
       "      <td>2018</td>\n",
       "      <td>2018</td>\n",
       "      <td>PPP dollar per person per day</td>\n",
       "      <td>4.069</td>\n",
       "      <td>E</td>\n",
       "    </tr>\n",
       "    <tr>\n",
       "      <th>2</th>\n",
       "      <td>3</td>\n",
       "      <td>'008</td>\n",
       "      <td>Albania</td>\n",
       "      <td>7004</td>\n",
       "      <td>Cost of a healthy diet (PPP dollar per person ...</td>\n",
       "      <td>6226</td>\n",
       "      <td>Value</td>\n",
       "      <td>2019</td>\n",
       "      <td>2019</td>\n",
       "      <td>PPP dollar per person per day</td>\n",
       "      <td>4.262</td>\n",
       "      <td>E</td>\n",
       "    </tr>\n",
       "    <tr>\n",
       "      <th>3</th>\n",
       "      <td>3</td>\n",
       "      <td>'008</td>\n",
       "      <td>Albania</td>\n",
       "      <td>7004</td>\n",
       "      <td>Cost of a healthy diet (PPP dollar per person ...</td>\n",
       "      <td>6226</td>\n",
       "      <td>Value</td>\n",
       "      <td>2020</td>\n",
       "      <td>2020</td>\n",
       "      <td>PPP dollar per person per day</td>\n",
       "      <td>4.280</td>\n",
       "      <td>E</td>\n",
       "    </tr>\n",
       "    <tr>\n",
       "      <th>4</th>\n",
       "      <td>3</td>\n",
       "      <td>'008</td>\n",
       "      <td>Albania</td>\n",
       "      <td>7004</td>\n",
       "      <td>Cost of a healthy diet (PPP dollar per person ...</td>\n",
       "      <td>6226</td>\n",
       "      <td>Value</td>\n",
       "      <td>2021</td>\n",
       "      <td>2021</td>\n",
       "      <td>PPP dollar per person per day</td>\n",
       "      <td>4.388</td>\n",
       "      <td>E</td>\n",
       "    </tr>\n",
       "    <tr>\n",
       "      <th>...</th>\n",
       "      <td>...</td>\n",
       "      <td>...</td>\n",
       "      <td>...</td>\n",
       "      <td>...</td>\n",
       "      <td>...</td>\n",
       "      <td>...</td>\n",
       "      <td>...</td>\n",
       "      <td>...</td>\n",
       "      <td>...</td>\n",
       "      <td>...</td>\n",
       "      <td>...</td>\n",
       "      <td>...</td>\n",
       "    </tr>\n",
       "    <tr>\n",
       "      <th>95</th>\n",
       "      <td>9</td>\n",
       "      <td>'032</td>\n",
       "      <td>Argentina</td>\n",
       "      <td>7007</td>\n",
       "      <td>Cost of starchy staples</td>\n",
       "      <td>6226</td>\n",
       "      <td>Value</td>\n",
       "      <td>2017</td>\n",
       "      <td>2017</td>\n",
       "      <td>PPP dollar per person per day</td>\n",
       "      <td>0.463</td>\n",
       "      <td>E</td>\n",
       "    </tr>\n",
       "    <tr>\n",
       "      <th>96</th>\n",
       "      <td>9</td>\n",
       "      <td>'032</td>\n",
       "      <td>Argentina</td>\n",
       "      <td>7008</td>\n",
       "      <td>Cost of animal source foods</td>\n",
       "      <td>6226</td>\n",
       "      <td>Value</td>\n",
       "      <td>2017</td>\n",
       "      <td>2017</td>\n",
       "      <td>PPP dollar per person per day</td>\n",
       "      <td>0.669</td>\n",
       "      <td>E</td>\n",
       "    </tr>\n",
       "    <tr>\n",
       "      <th>97</th>\n",
       "      <td>9</td>\n",
       "      <td>'032</td>\n",
       "      <td>Argentina</td>\n",
       "      <td>7009</td>\n",
       "      <td>Cost of legumes, nuts and seeds</td>\n",
       "      <td>6226</td>\n",
       "      <td>Value</td>\n",
       "      <td>2017</td>\n",
       "      <td>2017</td>\n",
       "      <td>PPP dollar per person per day</td>\n",
       "      <td>0.656</td>\n",
       "      <td>E</td>\n",
       "    </tr>\n",
       "    <tr>\n",
       "      <th>98</th>\n",
       "      <td>9</td>\n",
       "      <td>'032</td>\n",
       "      <td>Argentina</td>\n",
       "      <td>7010</td>\n",
       "      <td>Cost of vegetables</td>\n",
       "      <td>6226</td>\n",
       "      <td>Value</td>\n",
       "      <td>2017</td>\n",
       "      <td>2017</td>\n",
       "      <td>PPP dollar per person per day</td>\n",
       "      <td>0.703</td>\n",
       "      <td>E</td>\n",
       "    </tr>\n",
       "    <tr>\n",
       "      <th>99</th>\n",
       "      <td>9</td>\n",
       "      <td>'032</td>\n",
       "      <td>Argentina</td>\n",
       "      <td>7011</td>\n",
       "      <td>Cost of fruits</td>\n",
       "      <td>6226</td>\n",
       "      <td>Value</td>\n",
       "      <td>2017</td>\n",
       "      <td>2017</td>\n",
       "      <td>PPP dollar per person per day</td>\n",
       "      <td>0.733</td>\n",
       "      <td>E</td>\n",
       "    </tr>\n",
       "  </tbody>\n",
       "</table>\n",
       "<p>100 rows × 12 columns</p>\n",
       "</div>"
      ],
      "text/plain": [
       "    Area Code Area Code (M49)       Area  Item Code  \\\n",
       "0           3            '008    Albania       7004   \n",
       "1           3            '008    Albania       7004   \n",
       "2           3            '008    Albania       7004   \n",
       "3           3            '008    Albania       7004   \n",
       "4           3            '008    Albania       7004   \n",
       "..        ...             ...        ...        ...   \n",
       "95          9            '032  Argentina       7007   \n",
       "96          9            '032  Argentina       7008   \n",
       "97          9            '032  Argentina       7009   \n",
       "98          9            '032  Argentina       7010   \n",
       "99          9            '032  Argentina       7011   \n",
       "\n",
       "                                                 Item  Element Code Element  \\\n",
       "0   Cost of a healthy diet (PPP dollar per person ...          6226   Value   \n",
       "1   Cost of a healthy diet (PPP dollar per person ...          6226   Value   \n",
       "2   Cost of a healthy diet (PPP dollar per person ...          6226   Value   \n",
       "3   Cost of a healthy diet (PPP dollar per person ...          6226   Value   \n",
       "4   Cost of a healthy diet (PPP dollar per person ...          6226   Value   \n",
       "..                                                ...           ...     ...   \n",
       "95                            Cost of starchy staples          6226   Value   \n",
       "96                        Cost of animal source foods          6226   Value   \n",
       "97                    Cost of legumes, nuts and seeds          6226   Value   \n",
       "98                                 Cost of vegetables          6226   Value   \n",
       "99                                     Cost of fruits          6226   Value   \n",
       "\n",
       "    Year Code  Year                           Unit  Value Flag  \n",
       "0        2017  2017  PPP dollar per person per day  3.952    E  \n",
       "1        2018  2018  PPP dollar per person per day  4.069    E  \n",
       "2        2019  2019  PPP dollar per person per day  4.262    E  \n",
       "3        2020  2020  PPP dollar per person per day  4.280    E  \n",
       "4        2021  2021  PPP dollar per person per day  4.388    E  \n",
       "..        ...   ...                            ...    ...  ...  \n",
       "95       2017  2017  PPP dollar per person per day  0.463    E  \n",
       "96       2017  2017  PPP dollar per person per day  0.669    E  \n",
       "97       2017  2017  PPP dollar per person per day  0.656    E  \n",
       "98       2017  2017  PPP dollar per person per day  0.703    E  \n",
       "99       2017  2017  PPP dollar per person per day  0.733    E  \n",
       "\n",
       "[100 rows x 12 columns]"
      ]
     },
     "execution_count": 5,
     "metadata": {},
     "output_type": "execute_result"
    }
   ],
   "source": [
    "#existem paises aglomerados\n",
    "df.head(100)"
   ]
  },
  {
   "cell_type": "code",
   "execution_count": 6,
   "id": "b39b85a0",
   "metadata": {},
   "outputs": [
    {
     "data": {
      "text/plain": [
       "array([   3,    4,    7,  258,    8,    9,    1,   22,   10,   11,   52,\n",
       "         12,   13,   16,   57,  255,   23,   53,   17,   18,   19,   80,\n",
       "         20,   21,  239,   26,   27,  233,   29,   35,  115,   32,   33,\n",
       "         36,   37,   39,   40,   96,   41,  214,   44,   46,   48,  107,\n",
       "         98,  279,   50,  167,  250,   54,   72,   55,   56,   58,   59,\n",
       "         61,   63,  209,  238,   66,   67,   68,   74,   75,   79,   81,\n",
       "         84,   86,   90,  175,   91,   93,   95,   97,   99,  100,  101,\n",
       "        102,  103,  104,  105,  106,  109,  110,  112,  108,  114,  118,\n",
       "        113,  120,  119,  122,  123,  126,  256,  129,  130,  131,  132,\n",
       "        133,  134,  136,  137,  138,  141,  273,  142,  143,  144,   28,\n",
       "        147,  149,  150,  156,  157,  158,  159,  154,  162,  221,  165,\n",
       "        299,  166,  169,  170,  171,  173,  174,  179,  117,  146,  183,\n",
       "        185,  184,  188,  189,  191,  193,  194,  195,  272,  196,  197,\n",
       "        200,  280,  199,  198,  202,  203,   38,  276,  207,  210,  211,\n",
       "        208,  216,  220,  222,  223,  224,  226,  225,  229,  215,  231,\n",
       "        234,  237,  251,  181, 5000, 5100, 5101, 5102, 5103,  429, 5104,\n",
       "       5105,  420, 5810, 5200, 5203,  336, 5204, 5205, 5206, 5207, 5208,\n",
       "       5300, 5301, 5306, 5857, 5302, 5307, 5829, 5303, 5855, 5304, 5305,\n",
       "       5308, 5828, 5400, 5401, 5402, 5403, 5404, 5500, 5501, 5707, 5801,\n",
       "       5802, 5803, 5815, 5817, 5858, 5859, 9010, 9011, 5848, 5849, 5873],\n",
       "      dtype=int64)"
      ]
     },
     "execution_count": 6,
     "metadata": {},
     "output_type": "execute_result"
    }
   ],
   "source": [
    "#vendo os paises unicos\n",
    "df['Area Code'].unique()"
   ]
  },
  {
   "cell_type": "code",
   "execution_count": 7,
   "id": "b9913937",
   "metadata": {},
   "outputs": [],
   "source": [
    "#removendo os aglomerados do df, códigos 96, 214, 336, 420, 429 e acima de 5000\n",
    "df_filtrado = df[(df['Area Code'] < 5000) & (~df['Area Code'].isin([96, 214, 336, 420, 429]))]\n",
    "#96\t\tChina, Hong Kong SAR\n",
    "#214\tChina, Taiwan Province of\n",
    "#336\tNorth and Central America\n",
    "#420\tSub-Saharan Africa\n",
    "#429\tNorthern Africa (excluding Sudan)\n",
    "#5000\tWorld\n",
    "#5101\tEastern Africa\n",
    "#5102\tMiddle Africa\n",
    "#5103\tNorthern Africa\n",
    "#5104\tSouthern Africa\n",
    "#5105\tWestern Africa\n",
    "#5203\tNorthern America\n",
    "#5204\tCentral America\n",
    "#5205\tLatin America and the Caribbean\n",
    "#5207\tSouth America\n",
    "#5208\tNorthern America and Europe\n",
    "#5301\tCentral Asia\n",
    "#5302\tEastern Asia\n",
    "#5303\tSouthern Asia\n",
    "#5304\tSouth-eastern Asia\n",
    "#5305\tWestern Asia\n",
    "#5306\tCentral Asia and Southern Asia\n",
    "#5307\tEastern Asia and South-eastern Asia\n",
    "#5308\tWestern Asia and Northern Africa\n",
    "#5401\tEastern Europe\n",
    "#5402\tNorthern Europe\n",
    "#5403\tSouthern Europe\n",
    "#5404\tWestern Europe\n",
    "#5500\tOceania\n",
    "#5707\tEuropean Union (27)\n",
    "#5801\tLeast Developed Countries\n",
    "#5802\tLand Locked Developing Countries\n",
    "#5810\tSub-Saharan Africa (including Sudan)\n",
    "#5815\tLow Income Food Deficit Countries\n",
    "#5817\tNet Food Importing Developing Countries\n",
    "#5828\tWestern Asia (exc. Armenia, Azerbaijan, Cyprus, Israel and Georgia)\n",
    "#5829\tEastern Asia (excluding Japan and China)\n",
    "#5849\tNon-Annex I countries\n",
    "#5855\tSouthern Asia (excluding India)\n",
    "#5857\tCaucasus and Central Asia\n",
    "#5858\tLow income economies\n",
    "#5859\tLower-middle-income economies\n",
    "#5873\tOECD\n",
    "#9010\tHigh-income economies\n",
    "#9011\tUpper-middle-income economies"
   ]
  },
  {
   "cell_type": "code",
   "execution_count": 8,
   "id": "dcdbe07a",
   "metadata": {},
   "outputs": [
    {
     "name": "stdout",
     "output_type": "stream",
     "text": [
      "Antes da remoção:  220\n",
      "Depois do melt:  167\n"
     ]
    }
   ],
   "source": [
    "#verificando a quantidade de países removidos\n",
    "print(\"Antes da remoção: \", df['Area Code'].nunique())\n",
    "print(\"Depois do melt: \", df_filtrado['Area Code'].nunique())"
   ]
  },
  {
   "cell_type": "code",
   "execution_count": 9,
   "id": "8ca3af18",
   "metadata": {},
   "outputs": [],
   "source": [
    "#dtale.show(df)"
   ]
  },
  {
   "cell_type": "code",
   "execution_count": 10,
   "id": "ae5682e2",
   "metadata": {},
   "outputs": [
    {
     "name": "stdout",
     "output_type": "stream",
     "text": [
      "Area Code            0\n",
      "Area Code (M49)      0\n",
      "Area                 0\n",
      "Item Code            0\n",
      "Item                 0\n",
      "Element Code         0\n",
      "Element              0\n",
      "Year Code            0\n",
      "Year                 0\n",
      "Unit                 0\n",
      "Value              254\n",
      "Flag                 0\n",
      "dtype: int64\n"
     ]
    }
   ],
   "source": [
    "#Verificando se existem dados nulos\n",
    "print(df_filtrado.isnull().sum())"
   ]
  },
  {
   "cell_type": "code",
   "execution_count": 11,
   "id": "ab422678",
   "metadata": {},
   "outputs": [],
   "source": [
    "#existem dados nulos, apagando todas as linhas nulas\n",
    "#nao apagar agora, somente depois do merge das bases\n",
    "#df_filtrado = df_filtrado.dropna(subset=['Value'])"
   ]
  },
  {
   "cell_type": "code",
   "execution_count": 12,
   "id": "4f9e02a6",
   "metadata": {},
   "outputs": [],
   "source": [
    "#reset do indice\n",
    "df_filtrado = df_filtrado.reset_index(drop=True)"
   ]
  },
  {
   "cell_type": "code",
   "execution_count": 13,
   "id": "06b5a88c",
   "metadata": {},
   "outputs": [],
   "source": [
    "#dtale.show(df_filtrado)"
   ]
  },
  {
   "cell_type": "code",
   "execution_count": 14,
   "id": "1d73613a",
   "metadata": {},
   "outputs": [],
   "source": [
    "#Transpondo os valores dos itens para colunas\n",
    "df_pivot = df_filtrado.pivot_table(index=['Area Code', 'Area', 'Year'], columns='Item', values='Value').reset_index()"
   ]
  },
  {
   "cell_type": "code",
   "execution_count": 16,
   "id": "5b63ff47",
   "metadata": {},
   "outputs": [],
   "source": [
    "# Substituir o código de área 41 para China, mainland por 351\n",
    "df_pivot.loc[(df_pivot['Area Code'] == 41) & (df_pivot['Area'] == 'China, mainland'), 'Area Code'] = 351"
   ]
  },
  {
   "cell_type": "code",
   "execution_count": 17,
   "id": "ee9318da",
   "metadata": {},
   "outputs": [
    {
     "data": {
      "text/html": [
       "\n",
       "        <iframe\n",
       "            width=\"100%\"\n",
       "            height=\"475\"\n",
       "            src=\"http://NTEADAM:40000/dtale/iframe/1\"\n",
       "            frameborder=\"0\"\n",
       "            allowfullscreen\n",
       "            \n",
       "        ></iframe>\n",
       "        "
      ],
      "text/plain": [
       "<IPython.lib.display.IFrame at 0x2428c78c0d0>"
      ]
     },
     "metadata": {},
     "output_type": "display_data"
    },
    {
     "data": {
      "text/plain": []
     },
     "execution_count": 17,
     "metadata": {},
     "output_type": "execute_result"
    }
   ],
   "source": [
    "dtale.show(df_pivot)"
   ]
  },
  {
   "cell_type": "code",
   "execution_count": 18,
   "id": "31087baf",
   "metadata": {},
   "outputs": [],
   "source": [
    "#salvar em CSV\n",
    "df_pivot.to_csv('dados_pivotCoAHD.csv', index=False)"
   ]
  }
 ],
 "metadata": {
  "kernelspec": {
   "display_name": "Python 3 (ipykernel)",
   "language": "python",
   "name": "python3"
  },
  "language_info": {
   "codemirror_mode": {
    "name": "ipython",
    "version": 3
   },
   "file_extension": ".py",
   "mimetype": "text/x-python",
   "name": "python",
   "nbconvert_exporter": "python",
   "pygments_lexer": "ipython3",
   "version": "3.10.9"
  }
 },
 "nbformat": 4,
 "nbformat_minor": 5
}
