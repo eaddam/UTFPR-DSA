{
 "cells": [
  {
   "cell_type": "code",
   "execution_count": 1,
   "id": "c2c993ad",
   "metadata": {},
   "outputs": [],
   "source": [
    "import pandas as pd\n",
    "import dtale as dtale\n",
    "import warnings\n",
    "warnings.filterwarnings('ignore')"
   ]
  },
  {
   "cell_type": "code",
   "execution_count": 2,
   "id": "fce05073",
   "metadata": {},
   "outputs": [],
   "source": [
    "#https://hdr.undp.org/sites/default/files/2023-24_HDR/HDR23-24_Composite_indices_complete_time_series.csv\n",
    "df_hd = pd.read_csv('../Trabalho UX/HDI.csv', sep=',', encoding='ANSI',low_memory=False)"
   ]
  },
  {
   "cell_type": "code",
   "execution_count": 3,
   "id": "8f296057",
   "metadata": {},
   "outputs": [],
   "source": [
    "# Colunas a manter\n",
    "id_vars = ['country']"
   ]
  },
  {
   "cell_type": "code",
   "execution_count": 4,
   "id": "9017e3d2",
   "metadata": {},
   "outputs": [],
   "source": [
    "df_hd = df_hd.drop(columns=[col for col in df_hd.columns if 'iso3' in col])\n",
    "df_hd = df_hd.drop(columns=[col for col in df_hd.columns if 'region' in col])\n",
    "df_hd = df_hd.drop(columns=[col for col in df_hd.columns if 'hdicode' in col])"
   ]
  },
  {
   "cell_type": "code",
   "execution_count": 5,
   "id": "a35a1dcc",
   "metadata": {},
   "outputs": [],
   "source": [
    "# Colunas a transformar\n",
    "value_vars = [col for col in df_hd.columns if col not in id_vars]"
   ]
  },
  {
   "cell_type": "code",
   "execution_count": 6,
   "id": "e79a621b",
   "metadata": {},
   "outputs": [],
   "source": [
    "# melt para transformar os indicadores em uma única coluna\n",
    "df_melted = pd.melt(df_hd, id_vars=id_vars, value_vars=value_vars, var_name='indicator_year', value_name='value')"
   ]
  },
  {
   "cell_type": "code",
   "execution_count": 7,
   "id": "82fb5c04",
   "metadata": {
    "scrolled": true
   },
   "outputs": [],
   "source": [
    "#dtale.show(df_melted)"
   ]
  },
  {
   "cell_type": "code",
   "execution_count": 8,
   "id": "badbcc7b",
   "metadata": {},
   "outputs": [],
   "source": [
    "# Separando os indicadores dos anos\n",
    "df_melted[['indicator', 'year']] = df_melted['indicator_year'].str.extract(r'([a-zA-Z_]+)(\\d{4})')"
   ]
  },
  {
   "cell_type": "code",
   "execution_count": 9,
   "id": "a0d9f50c",
   "metadata": {},
   "outputs": [
    {
     "name": "stdout",
     "output_type": "stream",
     "text": [
      "Antes do melt:  206\n",
      "Depois do melt:  206\n"
     ]
    }
   ],
   "source": [
    "# Verificar se algum país deixou de existir após o pivotamento\n",
    "print(\"Antes do melt: \", df_hd['country'].nunique())\n",
    "print(\"Depois do melt: \", df_melted['country'].nunique())"
   ]
  },
  {
   "cell_type": "code",
   "execution_count": 10,
   "id": "a8b6ff65",
   "metadata": {},
   "outputs": [],
   "source": [
    "# Filtrando apenas os anos entre 2017 e 2021\n",
    "df_filtered = df_melted[df_melted['year'].astype(int).between(2017, 2021)]"
   ]
  },
  {
   "cell_type": "code",
   "execution_count": 11,
   "id": "1e3b6088",
   "metadata": {},
   "outputs": [
    {
     "name": "stdout",
     "output_type": "stream",
     "text": [
      "Antes do ano:  206\n",
      "Depois do ano:  206\n"
     ]
    }
   ],
   "source": [
    "# Verificar se algum país deixou de existir após o pivotamento\n",
    "print(\"Antes do ano: \", df_hd['country'].nunique())\n",
    "print(\"Depois do ano: \", df_melted['country'].nunique())"
   ]
  },
  {
   "cell_type": "code",
   "execution_count": 12,
   "id": "32db8b74",
   "metadata": {},
   "outputs": [],
   "source": [
    "# Remover o sufixo adicional \"_\" nas colunas de indicadores, se houver\n",
    "df_filtered['indicator'] = df_filtered['indicator'].str.rstrip('_')"
   ]
  },
  {
   "cell_type": "code",
   "execution_count": 13,
   "id": "19ec4021",
   "metadata": {},
   "outputs": [],
   "source": [
    "#dtale.show(df_filtered)"
   ]
  },
  {
   "cell_type": "code",
   "execution_count": 14,
   "id": "b17cca9f",
   "metadata": {},
   "outputs": [],
   "source": [
    "# Pivotando os dados\n",
    "df_pivoted = df_filtered.pivot_table(index=id_vars + ['year'], columns='indicator', values='value', aggfunc='first').reset_index()"
   ]
  },
  {
   "cell_type": "code",
   "execution_count": 15,
   "id": "654b0a36",
   "metadata": {},
   "outputs": [],
   "source": [
    "#dtale.show(df_pivoted)"
   ]
  },
  {
   "cell_type": "code",
   "execution_count": 16,
   "id": "b7875857",
   "metadata": {},
   "outputs": [
    {
     "name": "stdout",
     "output_type": "stream",
     "text": [
      "Antes do pivotamento:  206\n",
      "Depois do pivotamento:  206\n"
     ]
    }
   ],
   "source": [
    "# Verificar se algum país deixou de existir após o pivotamento\n",
    "print(\"Antes do pivotamento: \", df_filtered['country'].nunique())\n",
    "print(\"Depois do pivotamento: \", df_pivoted['country'].nunique())"
   ]
  },
  {
   "cell_type": "code",
   "execution_count": 17,
   "id": "3377bf8c",
   "metadata": {},
   "outputs": [],
   "source": [
    "# Renomear as colunas conforme os metadados:\n",
    "# https://hdr.undp.org/sites/default/files/2023-24_HDR/HDR23-24_Composite_indices_metadata.xlsx\n",
    "rename_dict = {\n",
    "    'abr': 'Adolescent Birth Rate (births per 1,000 women ages 15-19)',\n",
    "    'co2_prod': 'Carbon dioxide emissions per capita (production) (tonnes)',\n",
    "    'coef_ineq': 'Coefficient of human inequality',\n",
    "    'country': 'HDR Country Name',\n",
    "    'diff_hdi_phdi': 'Difference from HDI value (%)',\n",
    "    'eys': 'Expected Years of Schooling (years)',\n",
    "    'eys_f': 'Expected Years of Schooling, female (years)',\n",
    "    'eys_m': 'Expected Years of Schooling, male (years)',\n",
    "    'gdi': 'Gender Development Index (value)',\n",
    "    'gdi_group': 'GDI Group',\n",
    "    'gii': 'Gender Inequality Index (value)',\n",
    "    'gii_rank': 'GII Rank',\n",
    "    'gni_pc_f': 'Gross National Income Per Capita, female (2017 PPP$)',\n",
    "    'gni_pc_m': 'Gross National Income Per Capita, male (2017 PPP$)',\n",
    "    'gnipc': 'Gross National Income Per Capita (2017 PPP$)',\n",
    "    'hdi': 'Human Development Index (value)',\n",
    "    'hdi_f': 'HDI female',\n",
    "    'hdi_m': 'HDI male',\n",
    "    'hdicode': 'Human Development Groups',\n",
    "    'ihdi': 'Inequality-adjusted Human Development Index (value)',\n",
    "    'ineq_edu': 'Inequality in eduation',\n",
    "    'ineq_inc': 'Inequality in income',\n",
    "    'ineq_le': 'Inequality in life expectancy',\n",
    "    'iso3': 'ISO3',\n",
    "    'le': 'Life Expectancy at Birth (years)',\n",
    "    'le_f': 'Life Expectancy at Birth, female (years)',\n",
    "    'le_m': 'Life Expectancy at Birth, male (years)',\n",
    "    'lfpr_f': 'Labour force participation rate, female (% ages 15 and older)',\n",
    "    'lfpr_m': 'Labour force participation rate, male (% ages 15 and older)',\n",
    "    'loss': 'Overall loss (%)',\n",
    "    'mf': 'Material footprint per capita (tonnes)',\n",
    "    'mmr': 'Maternal Mortality Ratio (deaths per 100,000 live births)',\n",
    "    'mys': 'Mean Years of Schooling (years)',\n",
    "    'mys_f': 'Mean Years of Schooling, female (years)',\n",
    "    'mys_m': 'Mean Years of Schooling, male (years)',\n",
    "    'phdi': 'Planetary pressures–adjusted Human Development Index (value)',\n",
    "    'pop_total': 'Population, total (millions)',\n",
    "    'pr_f': 'Share of seats in parliament, female (% held by women)',\n",
    "    'pr_m': 'Share of seats in parliament, male (% held by men)',\n",
    "    'rankdiff_hdi_phdi': 'Difference from HDI rank',\n",
    "    'region': 'UNDP Developeing Regions',\n",
    "    'se_f': 'Population with at least some secondary education, female (% ages 25 and older)',\n",
    "    'se_m': 'Population with at least some secondary education, male (% ages 25 and older)'\n",
    "}\n",
    "df_pivoted.rename(columns=rename_dict, inplace=True)"
   ]
  },
  {
   "cell_type": "code",
   "execution_count": 18,
   "id": "e476a149",
   "metadata": {},
   "outputs": [],
   "source": [
    "df_pivoted = df_pivoted.drop(columns=[col for col in df_pivoted.columns if '_prod' in col])\n",
    "#dtale.show(df_pivoted)"
   ]
  },
  {
   "cell_type": "code",
   "execution_count": 19,
   "id": "60f047e0",
   "metadata": {},
   "outputs": [],
   "source": [
    "#Remover aglomerado de paises\n",
    "remover = [\n",
    "    'Arab States',\n",
    "    'East Asia and the Pacific',\n",
    "    'Europe and Central Asia',\n",
    "    'High human development',\n",
    "    'Hong Kong, China (SAR)',\n",
    "    'Latin America and the Caribbean',\n",
    "    'Low human development',\n",
    "    'Medium human development',\n",
    "    'South Asia',\n",
    "    'Sub-Saharan Africa',\n",
    "    'Liechtenstein',\n",
    "    'Monaco',\n",
    "    'San Marino',\n",
    "    'Very high human development',\n",
    "    'World'\n",
    "]\n",
    "df_pivoted = df_pivoted[~df_pivoted['HDR Country Name'].isin(remover)]"
   ]
  },
  {
   "cell_type": "code",
   "execution_count": 20,
   "id": "57979304",
   "metadata": {},
   "outputs": [
    {
     "name": "stdout",
     "output_type": "stream",
     "text": [
      "Antes de remover aglomerado:  206\n",
      "Depois do remover aglomerado:  191\n"
     ]
    }
   ],
   "source": [
    "# Verificar se algum país deixou de existir após o pivotamento\n",
    "print(\"Antes de remover aglomerado: \", df_filtered['country'].nunique())\n",
    "print(\"Depois do remover aglomerado: \", df_pivoted['HDR Country Name'].nunique())"
   ]
  },
  {
   "cell_type": "code",
   "execution_count": 21,
   "id": "9b125475",
   "metadata": {},
   "outputs": [
    {
     "name": "stdout",
     "output_type": "stream",
     "text": [
      "indicator\n",
      "HDR Country Name                                                                     0\n",
      "year                                                                                 0\n",
      "Adolescent Birth Rate (births per 1,000 women ages 15-19)                            0\n",
      "Coefficient of human inequality                                                    153\n",
      "Difference from HDI value (%)                                                      190\n",
      "Expected Years of Schooling (years)                                                 10\n",
      "Expected Years of Schooling, female (years)                                         10\n",
      "Expected Years of Schooling, male (years)                                           10\n",
      "Gender Development Index (value)                                                    71\n",
      "Gender Inequality Index (value)                                                    138\n",
      "Gross National Income Per Capita, female (2017 PPP$)                                68\n",
      "Gross National Income Per Capita, male (2017 PPP$)                                  68\n",
      "Gross National Income Per Capita (2017 PPP$)                                         5\n",
      "Human Development Index (value)                                                     10\n",
      "HDI female                                                                          71\n",
      "HDI male                                                                            71\n",
      "Inequality-adjusted Human Development Index (value)                                153\n",
      "Inequality in eduation                                                              88\n",
      "Inequality in income                                                               110\n",
      "Inequality in life expectancy                                                        0\n",
      "Life Expectancy at Birth (years)                                                     0\n",
      "Life Expectancy at Birth, female (years)                                             0\n",
      "Life Expectancy at Birth, male (years)                                               0\n",
      "Labour force participation rate, female (% ages 15 and older)                       68\n",
      "Labour force participation rate, male (% ages 15 and older)                         68\n",
      "Overall loss (%)                                                                   153\n",
      "Material footprint per capita (tonnes)                                             184\n",
      "Maternal Mortality Ratio (deaths per 100,000 live births)                           35\n",
      "Mean Years of Schooling (years)                                                     10\n",
      "Mean Years of Schooling, female (years)                                             12\n",
      "Mean Years of Schooling, male (years)                                               12\n",
      "Planetary pressures–adjusted Human Development Index (value)                       190\n",
      "Population, total (millions)                                                         0\n",
      "Share of seats in parliament, female (% held by women)                               5\n",
      "Share of seats in parliament, male (% held by men)                                   5\n",
      "Population with at least some secondary education, female (% ages 25 and older)     82\n",
      "Population with at least some secondary education, male (% ages 25 and older)       82\n",
      "dtype: int64\n"
     ]
    }
   ],
   "source": [
    "#Verificando se existem dados nulos\n",
    "print(df_pivoted.isnull().sum())"
   ]
  },
  {
   "cell_type": "code",
   "execution_count": 22,
   "id": "276b46bf",
   "metadata": {},
   "outputs": [],
   "source": [
    "#existem dados nulos, apagando todas as linhas nulas\n",
    "#nao apagar nulos neste momento, somente após o merge das bases\n",
    "#df_pivoted.dropna(inplace=True)"
   ]
  },
  {
   "cell_type": "code",
   "execution_count": 23,
   "id": "63921d93",
   "metadata": {},
   "outputs": [],
   "source": [
    "df_codigo = pd.read_csv('../Trabalho UX/area_code.csv', sep=',', encoding='utf-8',low_memory=False)"
   ]
  },
  {
   "cell_type": "code",
   "execution_count": 24,
   "id": "ad6566c1",
   "metadata": {},
   "outputs": [],
   "source": [
    "#nao encontramos alguns paises, vamos ajustar o DF para que seja o mesmo nome do area code\n",
    "rename_country = {\n",
    "    'Netherlands': 'Netherlands (Kingdom of the)',\n",
    "    'United States': 'United States of America',\n",
    "    \"Korea (Democratic People's Rep. of)\": \"Democratic People's Republic of Korea\",\n",
    "    'Korea (Republic of)': 'Republic of Korea',\n",
    "    'Moldova (Republic of)': 'Republic of Moldova',\n",
    "    'Congo (Democratic Republic of the)': 'Democratic Republic of the Congo',\n",
    "    'Palestine, State of': 'Palestine',\n",
    "    'Tanzania (United Republic of)': 'United Republic of Tanzania',\n",
    "    'United Kingdom': 'United Kingdom of Great Britain and Northern Ireland',\n",
    "    'Eswatini (Kingdom of)': 'Eswatini'\n",
    "}\n",
    "\n",
    "# Renomear os países no df_pivoted\n",
    "df_pivoted['HDR Country Name'] = df_pivoted['HDR Country Name'].replace(rename_country)"
   ]
  },
  {
   "cell_type": "code",
   "execution_count": 25,
   "id": "9fa50ab9",
   "metadata": {},
   "outputs": [],
   "source": [
    "#Colocando o código de area no DF\n",
    "df_merge = pd.merge(df_pivoted, df_codigo, left_on='HDR Country Name', right_on='Area', how='left')\n",
    "df_merge = df_merge.drop(columns=['Area'])"
   ]
  },
  {
   "cell_type": "code",
   "execution_count": 26,
   "id": "0b69ac97",
   "metadata": {},
   "outputs": [],
   "source": [
    "# Reordenando as colunas para que 'Area Code' seja a primeira\n",
    "cols = ['Area Code'] + [col for col in df_merge.columns if col != 'Area Code']\n",
    "df_merge = df_merge[cols]"
   ]
  },
  {
   "cell_type": "code",
   "execution_count": 27,
   "id": "6b012771",
   "metadata": {},
   "outputs": [],
   "source": [
    "# Renomear as colunas\n",
    "df_merge = df_merge.rename(columns={\n",
    "    'HDR Country Name': 'Area',\n",
    "    'year': 'Year'\n",
    "})"
   ]
  },
  {
   "cell_type": "code",
   "execution_count": 28,
   "id": "73bf4a89",
   "metadata": {},
   "outputs": [
    {
     "data": {
      "text/html": [
       "\n",
       "        <iframe\n",
       "            width=\"100%\"\n",
       "            height=\"475\"\n",
       "            src=\"http://NTEADAM:40000/dtale/iframe/1\"\n",
       "            frameborder=\"0\"\n",
       "            allowfullscreen\n",
       "            \n",
       "        ></iframe>\n",
       "        "
      ],
      "text/plain": [
       "<IPython.lib.display.IFrame at 0x12c0caf8580>"
      ]
     },
     "metadata": {},
     "output_type": "display_data"
    },
    {
     "data": {
      "text/plain": []
     },
     "execution_count": 28,
     "metadata": {},
     "output_type": "execute_result"
    }
   ],
   "source": [
    "dtale.show(df_merge)"
   ]
  },
  {
   "cell_type": "code",
   "execution_count": 29,
   "id": "0e7a511d",
   "metadata": {},
   "outputs": [
    {
     "data": {
      "text/html": [
       "\n",
       "        <iframe\n",
       "            width=\"100%\"\n",
       "            height=\"475\"\n",
       "            src=\"http://NTEADAM:40000/dtale/iframe/2\"\n",
       "            frameborder=\"0\"\n",
       "            allowfullscreen\n",
       "            \n",
       "        ></iframe>\n",
       "        "
      ],
      "text/plain": [
       "<IPython.lib.display.IFrame at 0x12c0e48d900>"
      ]
     },
     "metadata": {},
     "output_type": "display_data"
    },
    {
     "data": {
      "text/plain": []
     },
     "execution_count": 29,
     "metadata": {},
     "output_type": "execute_result"
    }
   ],
   "source": [
    "dtale.show(df_codigo)"
   ]
  },
  {
   "cell_type": "code",
   "execution_count": 30,
   "id": "56aebcdc",
   "metadata": {},
   "outputs": [],
   "source": [
    "# Salvando o DataFrame em um arquivo CSV\n",
    "df_merge.to_csv('HDI-pivo.csv', index=False)"
   ]
  }
 ],
 "metadata": {
  "kernelspec": {
   "display_name": "Python 3 (ipykernel)",
   "language": "python",
   "name": "python3"
  },
  "language_info": {
   "codemirror_mode": {
    "name": "ipython",
    "version": 3
   },
   "file_extension": ".py",
   "mimetype": "text/x-python",
   "name": "python",
   "nbconvert_exporter": "python",
   "pygments_lexer": "ipython3",
   "version": "3.10.9"
  }
 },
 "nbformat": 4,
 "nbformat_minor": 5
}
