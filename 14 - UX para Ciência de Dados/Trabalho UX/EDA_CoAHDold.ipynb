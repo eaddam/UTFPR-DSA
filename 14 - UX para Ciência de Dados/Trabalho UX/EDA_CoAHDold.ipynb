{
 "cells": [
  {
   "cell_type": "code",
   "execution_count": 1,
   "id": "e00f9ef4",
   "metadata": {},
   "outputs": [
    {
     "ename": "ParserError",
     "evalue": "Error tokenizing data. C error: Expected 1 fields in line 9, saw 2\n",
     "output_type": "error",
     "traceback": [
      "\u001b[1;31m---------------------------------------------------------------------------\u001b[0m",
      "\u001b[1;31mParserError\u001b[0m                               Traceback (most recent call last)",
      "Cell \u001b[1;32mIn[1], line 6\u001b[0m\n\u001b[0;32m      3\u001b[0m \u001b[38;5;28;01mfrom\u001b[39;00m \u001b[38;5;21;01mydata_profiling\u001b[39;00m \u001b[38;5;28;01mimport\u001b[39;00m ProfileReport\n\u001b[0;32m      4\u001b[0m \u001b[38;5;66;03m#importando dataset em um dataframe utilizando Pandas\u001b[39;00m\n\u001b[0;32m      5\u001b[0m \u001b[38;5;66;03m#df = pd.read_csv('../Trabalho UX/CoAHD.csv', sep=',', encoding='ANSI',low_memory=False)\u001b[39;00m\n\u001b[1;32m----> 6\u001b[0m df_norm \u001b[38;5;241m=\u001b[39m \u001b[43mpd\u001b[49m\u001b[38;5;241;43m.\u001b[39;49m\u001b[43mread_csv\u001b[49m\u001b[43m(\u001b[49m\u001b[38;5;124;43m'\u001b[39;49m\u001b[38;5;124;43m../Trabalho UX/CoAHD-Normalized.csv\u001b[39;49m\u001b[38;5;124;43m'\u001b[39;49m\u001b[43m,\u001b[49m\u001b[43m \u001b[49m\u001b[43msep\u001b[49m\u001b[38;5;241;43m=\u001b[39;49m\u001b[38;5;124;43m'\u001b[39;49m\u001b[38;5;124;43m,\u001b[39;49m\u001b[38;5;124;43m'\u001b[39;49m\u001b[43m,\u001b[49m\u001b[43m \u001b[49m\u001b[43mencoding\u001b[49m\u001b[38;5;241;43m=\u001b[39;49m\u001b[38;5;124;43m'\u001b[39;49m\u001b[38;5;124;43mANSI\u001b[39;49m\u001b[38;5;124;43m'\u001b[39;49m\u001b[43m,\u001b[49m\u001b[43mlow_memory\u001b[49m\u001b[38;5;241;43m=\u001b[39;49m\u001b[38;5;28;43;01mFalse\u001b[39;49;00m\u001b[43m)\u001b[49m\n\u001b[0;32m      7\u001b[0m df_foodNorm \u001b[38;5;241m=\u001b[39m pd\u001b[38;5;241m.\u001b[39mread_csv(\u001b[38;5;124m'\u001b[39m\u001b[38;5;124m../Trabalho UX/Food-Normalized.csv\u001b[39m\u001b[38;5;124m'\u001b[39m, sep\u001b[38;5;241m=\u001b[39m\u001b[38;5;124m'\u001b[39m\u001b[38;5;124m,\u001b[39m\u001b[38;5;124m'\u001b[39m, encoding\u001b[38;5;241m=\u001b[39m\u001b[38;5;124m'\u001b[39m\u001b[38;5;124mANSI\u001b[39m\u001b[38;5;124m'\u001b[39m,low_memory\u001b[38;5;241m=\u001b[39m\u001b[38;5;28;01mFalse\u001b[39;00m)\n",
      "File \u001b[1;32mD:\\pessoal\\anaconda3\\lib\\site-packages\\pandas\\util\\_decorators.py:211\u001b[0m, in \u001b[0;36mdeprecate_kwarg.<locals>._deprecate_kwarg.<locals>.wrapper\u001b[1;34m(*args, **kwargs)\u001b[0m\n\u001b[0;32m    209\u001b[0m     \u001b[38;5;28;01melse\u001b[39;00m:\n\u001b[0;32m    210\u001b[0m         kwargs[new_arg_name] \u001b[38;5;241m=\u001b[39m new_arg_value\n\u001b[1;32m--> 211\u001b[0m \u001b[38;5;28;01mreturn\u001b[39;00m func(\u001b[38;5;241m*\u001b[39margs, \u001b[38;5;241m*\u001b[39m\u001b[38;5;241m*\u001b[39mkwargs)\n",
      "File \u001b[1;32mD:\\pessoal\\anaconda3\\lib\\site-packages\\pandas\\util\\_decorators.py:331\u001b[0m, in \u001b[0;36mdeprecate_nonkeyword_arguments.<locals>.decorate.<locals>.wrapper\u001b[1;34m(*args, **kwargs)\u001b[0m\n\u001b[0;32m    325\u001b[0m \u001b[38;5;28;01mif\u001b[39;00m \u001b[38;5;28mlen\u001b[39m(args) \u001b[38;5;241m>\u001b[39m num_allow_args:\n\u001b[0;32m    326\u001b[0m     warnings\u001b[38;5;241m.\u001b[39mwarn(\n\u001b[0;32m    327\u001b[0m         msg\u001b[38;5;241m.\u001b[39mformat(arguments\u001b[38;5;241m=\u001b[39m_format_argument_list(allow_args)),\n\u001b[0;32m    328\u001b[0m         \u001b[38;5;167;01mFutureWarning\u001b[39;00m,\n\u001b[0;32m    329\u001b[0m         stacklevel\u001b[38;5;241m=\u001b[39mfind_stack_level(),\n\u001b[0;32m    330\u001b[0m     )\n\u001b[1;32m--> 331\u001b[0m \u001b[38;5;28;01mreturn\u001b[39;00m func(\u001b[38;5;241m*\u001b[39margs, \u001b[38;5;241m*\u001b[39m\u001b[38;5;241m*\u001b[39mkwargs)\n",
      "File \u001b[1;32mD:\\pessoal\\anaconda3\\lib\\site-packages\\pandas\\io\\parsers\\readers.py:950\u001b[0m, in \u001b[0;36mread_csv\u001b[1;34m(filepath_or_buffer, sep, delimiter, header, names, index_col, usecols, squeeze, prefix, mangle_dupe_cols, dtype, engine, converters, true_values, false_values, skipinitialspace, skiprows, skipfooter, nrows, na_values, keep_default_na, na_filter, verbose, skip_blank_lines, parse_dates, infer_datetime_format, keep_date_col, date_parser, dayfirst, cache_dates, iterator, chunksize, compression, thousands, decimal, lineterminator, quotechar, quoting, doublequote, escapechar, comment, encoding, encoding_errors, dialect, error_bad_lines, warn_bad_lines, on_bad_lines, delim_whitespace, low_memory, memory_map, float_precision, storage_options)\u001b[0m\n\u001b[0;32m    935\u001b[0m kwds_defaults \u001b[38;5;241m=\u001b[39m _refine_defaults_read(\n\u001b[0;32m    936\u001b[0m     dialect,\n\u001b[0;32m    937\u001b[0m     delimiter,\n\u001b[1;32m   (...)\u001b[0m\n\u001b[0;32m    946\u001b[0m     defaults\u001b[38;5;241m=\u001b[39m{\u001b[38;5;124m\"\u001b[39m\u001b[38;5;124mdelimiter\u001b[39m\u001b[38;5;124m\"\u001b[39m: \u001b[38;5;124m\"\u001b[39m\u001b[38;5;124m,\u001b[39m\u001b[38;5;124m\"\u001b[39m},\n\u001b[0;32m    947\u001b[0m )\n\u001b[0;32m    948\u001b[0m kwds\u001b[38;5;241m.\u001b[39mupdate(kwds_defaults)\n\u001b[1;32m--> 950\u001b[0m \u001b[38;5;28;01mreturn\u001b[39;00m \u001b[43m_read\u001b[49m\u001b[43m(\u001b[49m\u001b[43mfilepath_or_buffer\u001b[49m\u001b[43m,\u001b[49m\u001b[43m \u001b[49m\u001b[43mkwds\u001b[49m\u001b[43m)\u001b[49m\n",
      "File \u001b[1;32mD:\\pessoal\\anaconda3\\lib\\site-packages\\pandas\\io\\parsers\\readers.py:611\u001b[0m, in \u001b[0;36m_read\u001b[1;34m(filepath_or_buffer, kwds)\u001b[0m\n\u001b[0;32m    608\u001b[0m     \u001b[38;5;28;01mreturn\u001b[39;00m parser\n\u001b[0;32m    610\u001b[0m \u001b[38;5;28;01mwith\u001b[39;00m parser:\n\u001b[1;32m--> 611\u001b[0m     \u001b[38;5;28;01mreturn\u001b[39;00m \u001b[43mparser\u001b[49m\u001b[38;5;241;43m.\u001b[39;49m\u001b[43mread\u001b[49m\u001b[43m(\u001b[49m\u001b[43mnrows\u001b[49m\u001b[43m)\u001b[49m\n",
      "File \u001b[1;32mD:\\pessoal\\anaconda3\\lib\\site-packages\\pandas\\io\\parsers\\readers.py:1778\u001b[0m, in \u001b[0;36mTextFileReader.read\u001b[1;34m(self, nrows)\u001b[0m\n\u001b[0;32m   1771\u001b[0m nrows \u001b[38;5;241m=\u001b[39m validate_integer(\u001b[38;5;124m\"\u001b[39m\u001b[38;5;124mnrows\u001b[39m\u001b[38;5;124m\"\u001b[39m, nrows)\n\u001b[0;32m   1772\u001b[0m \u001b[38;5;28;01mtry\u001b[39;00m:\n\u001b[0;32m   1773\u001b[0m     \u001b[38;5;66;03m# error: \"ParserBase\" has no attribute \"read\"\u001b[39;00m\n\u001b[0;32m   1774\u001b[0m     (\n\u001b[0;32m   1775\u001b[0m         index,\n\u001b[0;32m   1776\u001b[0m         columns,\n\u001b[0;32m   1777\u001b[0m         col_dict,\n\u001b[1;32m-> 1778\u001b[0m     ) \u001b[38;5;241m=\u001b[39m \u001b[38;5;28;43mself\u001b[39;49m\u001b[38;5;241;43m.\u001b[39;49m\u001b[43m_engine\u001b[49m\u001b[38;5;241;43m.\u001b[39;49m\u001b[43mread\u001b[49m\u001b[43m(\u001b[49m\u001b[43m  \u001b[49m\u001b[38;5;66;43;03m# type: ignore[attr-defined]\u001b[39;49;00m\n\u001b[0;32m   1779\u001b[0m \u001b[43m        \u001b[49m\u001b[43mnrows\u001b[49m\n\u001b[0;32m   1780\u001b[0m \u001b[43m    \u001b[49m\u001b[43m)\u001b[49m\n\u001b[0;32m   1781\u001b[0m \u001b[38;5;28;01mexcept\u001b[39;00m \u001b[38;5;167;01mException\u001b[39;00m:\n\u001b[0;32m   1782\u001b[0m     \u001b[38;5;28mself\u001b[39m\u001b[38;5;241m.\u001b[39mclose()\n",
      "File \u001b[1;32mD:\\pessoal\\anaconda3\\lib\\site-packages\\pandas\\io\\parsers\\c_parser_wrapper.py:235\u001b[0m, in \u001b[0;36mCParserWrapper.read\u001b[1;34m(self, nrows)\u001b[0m\n\u001b[0;32m    232\u001b[0m         data \u001b[38;5;241m=\u001b[39m _concatenate_chunks(chunks)\n\u001b[0;32m    234\u001b[0m     \u001b[38;5;28;01melse\u001b[39;00m:\n\u001b[1;32m--> 235\u001b[0m         data \u001b[38;5;241m=\u001b[39m \u001b[38;5;28;43mself\u001b[39;49m\u001b[38;5;241;43m.\u001b[39;49m\u001b[43m_reader\u001b[49m\u001b[38;5;241;43m.\u001b[39;49m\u001b[43mread\u001b[49m\u001b[43m(\u001b[49m\u001b[43mnrows\u001b[49m\u001b[43m)\u001b[49m\n\u001b[0;32m    236\u001b[0m \u001b[38;5;28;01mexcept\u001b[39;00m \u001b[38;5;167;01mStopIteration\u001b[39;00m:\n\u001b[0;32m    237\u001b[0m     \u001b[38;5;28;01mif\u001b[39;00m \u001b[38;5;28mself\u001b[39m\u001b[38;5;241m.\u001b[39m_first_chunk:\n",
      "File \u001b[1;32mD:\\pessoal\\anaconda3\\lib\\site-packages\\pandas\\_libs\\parsers.pyx:790\u001b[0m, in \u001b[0;36mpandas._libs.parsers.TextReader.read\u001b[1;34m()\u001b[0m\n",
      "File \u001b[1;32mD:\\pessoal\\anaconda3\\lib\\site-packages\\pandas\\_libs\\parsers.pyx:883\u001b[0m, in \u001b[0;36mpandas._libs.parsers.TextReader._read_rows\u001b[1;34m()\u001b[0m\n",
      "File \u001b[1;32mD:\\pessoal\\anaconda3\\lib\\site-packages\\pandas\\_libs\\parsers.pyx:1973\u001b[0m, in \u001b[0;36mpandas._libs.parsers.raise_parser_error\u001b[1;34m()\u001b[0m\n",
      "\u001b[1;31mParserError\u001b[0m: Error tokenizing data. C error: Expected 1 fields in line 9, saw 2\n"
     ]
    }
   ],
   "source": [
    "import pandas as pd\n",
    "import dtale as dtale\n",
    "from ydata_profiling import ProfileReport\n",
    "#importando dataset em um dataframe utilizando Pandas\n",
    "#df = pd.read_csv('../Trabalho UX/CoAHD.csv', sep=',', encoding='ANSI',low_memory=False)\n",
    "df_norm = pd.read_csv('../Trabalho UX/CoAHD-Normalized.csv', sep=',', encoding='ANSI',low_memory=False)\n",
    "df_foodNorm = pd.read_csv('../Trabalho UX/Food-Normalized.csv', sep=',', encoding='ANSI',low_memory=False)"
   ]
  },
  {
   "cell_type": "code",
   "execution_count": null,
   "id": "24c009f6",
   "metadata": {},
   "outputs": [],
   "source": [
    "#profile = ProfileReport(df_norm, title=\"Cost of diet\")\n",
    "#profile.to_notebook_iframe()\n",
    "#dtale.show(df_norm)"
   ]
  },
  {
   "cell_type": "code",
   "execution_count": null,
   "id": "758694c7",
   "metadata": {},
   "outputs": [],
   "source": [
    "#dtale.show(df_foodNorm)"
   ]
  },
  {
   "cell_type": "code",
   "execution_count": null,
   "id": "12cd07d7",
   "metadata": {},
   "outputs": [],
   "source": [
    "#df_foodNorm.head(15)"
   ]
  },
  {
   "cell_type": "code",
   "execution_count": null,
   "id": "c9178fca",
   "metadata": {},
   "outputs": [],
   "source": [
    "#filtrando somente BRASIL nos 2 DataFrames\n",
    "df_filtradoCost = df_norm [df_norm['Area'] == 'Brazil']\n",
    "df_filtradoFood = df_foodNorm[df_foodNorm['Area'] == 'Brazil']"
   ]
  },
  {
   "cell_type": "code",
   "execution_count": null,
   "id": "fe1b99e1",
   "metadata": {},
   "outputs": [],
   "source": [
    "# Resetando os índices para facilitar a junção\n",
    "df_filtradoCost = df_filtradoCost.reset_index(drop=True)\n",
    "df_filtradoFood = df_filtradoFood.reset_index(drop=True)"
   ]
  },
  {
   "cell_type": "code",
   "execution_count": null,
   "id": "8bab5145",
   "metadata": {},
   "outputs": [],
   "source": [
    "print(df_filtradoCost.isnull().sum())"
   ]
  },
  {
   "cell_type": "code",
   "execution_count": null,
   "id": "d3f12e86",
   "metadata": {},
   "outputs": [],
   "source": [
    "print(df_filtradoFood.isnull().sum())"
   ]
  },
  {
   "cell_type": "code",
   "execution_count": null,
   "id": "2483940c",
   "metadata": {},
   "outputs": [],
   "source": [
    "# Selecionando as linhas de interesse para as correlações\n",
    "items_of_interest = [\n",
    "    'Cost of a healthy diet',\n",
    "    'Prevalence of severe food insecurity (percent)',\n",
    "    'Percent of the population unable to afford nutrient adequacy',\n",
    "    'Prevalence of undernourishment (percent)',\n",
    "    'Affordability of a healthy diet: ratio of cost to food expenditures',\n",
    "    'Prevalence of obesity in the adult population (percent)',\n",
    "    'Cost of fruits and vegetables',\n",
    "    'Percentage of children under 5 years affected by wasting (percent)',\n",
    "    'Percentage of population using safely managed drinking water services',\n",
    "    'Per capita food production variability',\n",
    "    'Cereal import dependency ratio',\n",
    "    'Political stability and absence of violence/terrorism (index)'\n",
    "]"
   ]
  },
  {
   "cell_type": "code",
   "execution_count": null,
   "id": "b4dece34",
   "metadata": {},
   "outputs": [],
   "source": [
    "# Filtrando apenas os itens de interesse em ambos os dataframes\n",
    "df_filtradoCost = df_filtradoCost[df_filtradoCost['Item'].isin(items_of_interest)].set_index('Item')\n",
    "df_filtradoFood = df_filtradoFood[df_filtradoFood['Item'].isin(items_of_interest)].set_index('Item')"
   ]
  },
  {
   "cell_type": "code",
   "execution_count": null,
   "id": "c4ed4a5d",
   "metadata": {},
   "outputs": [],
   "source": [
    "# Transpondo os dataframes para que os itens se tornem colunas\n",
    "df_filtradoCost_T = df_filtradoCost.T\n",
    "df_filtradoFood_T = df_filtradoFood.T"
   ]
  },
  {
   "cell_type": "code",
   "execution_count": null,
   "id": "3ab90901",
   "metadata": {},
   "outputs": [],
   "source": [
    "# Combinando os dataframes transpostos\n",
    "df_combined_T = pd.concat([df_filtradoCost_T, df_filtradoFood_T], axis=1)"
   ]
  },
  {
   "cell_type": "code",
   "execution_count": null,
   "id": "20e9a5a8",
   "metadata": {},
   "outputs": [],
   "source": [
    "# Selecionando apenas colunas numéricas para calcular a matriz de correlação\n",
    "df_combined_T_numeric = df_combined_T.select_dtypes(include='number')"
   ]
  },
  {
   "cell_type": "code",
   "execution_count": null,
   "id": "edf8395e",
   "metadata": {},
   "outputs": [],
   "source": [
    "# Calculando a matriz de correlação\n",
    "correlation_matrix = df_combined_T_numeric.corr()"
   ]
  },
  {
   "cell_type": "code",
   "execution_count": null,
   "id": "f6bfbd8d",
   "metadata": {},
   "outputs": [],
   "source": [
    "# Visualizando as correlações de interesse específicas\n",
    "correlations_of_interest = {\n",
    "    'Cost of a healthy diet vs Prevalence of severe food insecurity': df_combined_T_numeric['Cost of a healthy diet'].corr(df_combined_T_numeric['Prevalence of severe food insecurity (percent)']),\n",
    "    'Percent of the population unable to afford nutrient adequacy vs Prevalence of undernourishment': df_combined_T_numeric['Percent of the population unable to afford nutrient adequacy'].corr(df_combined_T_numeric['Prevalence of undernourishment (percent)']),\n",
    "    'Affordability of a healthy diet vs Prevalence of obesity': df_combined_T_numeric['Affordability of a healthy diet: ratio of cost to food expenditures'].corr(df_combined_T_numeric['Prevalence of obesity in the adult population (percent)']),\n",
    "    'Cost of fruits and vegetables vs Percentage of children under 5 years affected by wasting': df_combined_T_numeric['Cost of fruits and vegetables'].corr(df_combined_T_numeric['Percentage of children under 5 years affected by wasting (percent)']),\n",
    "    'Percentage of population using safely managed drinking water services vs Prevalence of undernourishment': df_combined_T_numeric['Percentage of population using safely managed drinking water services'].corr(df_combined_T_numeric['Prevalence of undernourishment (percent)']),\n",
    "    'Per capita food production variability vs Prevalence of undernourishment': df_combined_T_numeric['Per capita food production variability'].corr(df_combined_T_numeric['Prevalence of undernourishment (percent)']),\n",
    "    'Cereal import dependency ratio vs Prevalence of undernourishment': df_combined_T_numeric['Cereal import dependency ratio'].corr(df_combined_T_numeric['Prevalence of undernourishment (percent)']),\n",
    "    'Political stability and absence of violence/terrorism vs Prevalence of undernourishment': df_combined_T_numeric['Political stability and absence of violence/terrorism (index)'].corr(df_combined_T_numeric['Prevalence of undernourishment (percent)'])\n",
    "}"
   ]
  },
  {
   "cell_type": "code",
   "execution_count": null,
   "id": "f574e880",
   "metadata": {},
   "outputs": [],
   "source": [
    "# Exibindo as correlações de interesse específicas\n",
    "for desc, corr_value in correlations_of_interest.items():\n",
    "    print(f'{desc}: {corr_value:.4f}')"
   ]
  }
 ],
 "metadata": {
  "kernelspec": {
   "display_name": "Python 3 (ipykernel)",
   "language": "python",
   "name": "python3"
  },
  "language_info": {
   "codemirror_mode": {
    "name": "ipython",
    "version": 3
   },
   "file_extension": ".py",
   "mimetype": "text/x-python",
   "name": "python",
   "nbconvert_exporter": "python",
   "pygments_lexer": "ipython3",
   "version": "3.10.9"
  }
 },
 "nbformat": 4,
 "nbformat_minor": 5
}
