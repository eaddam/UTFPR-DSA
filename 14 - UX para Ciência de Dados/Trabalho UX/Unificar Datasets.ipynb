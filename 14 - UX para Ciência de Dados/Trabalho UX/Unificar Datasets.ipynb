{
 "cells": [
  {
   "cell_type": "code",
   "execution_count": 7,
   "id": "add2d30a",
   "metadata": {},
   "outputs": [],
   "source": [
    "import pandas as pd\n",
    "import dtale as dtale\n",
    "from ydata_profiling import ProfileReport  \n",
    "import warnings\n",
    "warnings.filterwarnings('ignore')"
   ]
  },
  {
   "cell_type": "code",
   "execution_count": 12,
   "id": "ff922cf3",
   "metadata": {},
   "outputs": [],
   "source": [
    "#lendo base Suite of Food Security Indicators - Edgar\n",
    "df_food = pd.read_excel('../Trabalho UX/Entrega/FSI-EDGAR.xlsx')\n",
    "#lendo base Custo - Emerson\n",
    "df_custo = pd.read_csv('../Trabalho UX/Entrega/CoAHD-Emerson.csv', sep=',', encoding='ANSI',low_memory=False)\n",
    "#lendo base HDI - Emerson\n",
    "df_hdi = pd.read_csv('../Trabalho UX/Entrega/HDI-Emerson.csv', sep=',', encoding='ANSI',low_memory=False)\n",
    "#lendo base SDG - Jailson\n",
    "df_sdg = pd.read_csv('../Trabalho UX/Entrega/SDBG-Jailson.csv', sep=',', encoding='ANSI',low_memory=False)"
   ]
  },
  {
   "cell_type": "code",
   "execution_count": 13,
   "id": "b846bcfb",
   "metadata": {},
   "outputs": [],
   "source": [
    "#unindo tudo\n",
    "#Base de custo e HDI\n",
    "df_tabelao = pd.merge(df_custo , df_hdi, on=['Area Code', 'Area', 'Year'], how='outer')\n",
    "#tabelao + sdg Jailson\n",
    "df_tabelao = pd.merge(df_tabelao, df_sdg, on=['Area Code', 'Area', 'Year'], how='outer')\n",
    "#tabelao + food Edgar\n",
    "df_tabelao = pd.merge(df_tabelao, df_food, on=['Area Code', 'Area', 'Year'], how='outer')"
   ]
  },
  {
   "cell_type": "code",
   "execution_count": 14,
   "id": "ba242fc5",
   "metadata": {},
   "outputs": [
    {
     "data": {
      "text/html": [
       "\n",
       "        <iframe\n",
       "            width=\"100%\"\n",
       "            height=\"475\"\n",
       "            src=\"http://NTEADAM:40000/dtale/iframe/2\"\n",
       "            frameborder=\"0\"\n",
       "            allowfullscreen\n",
       "            \n",
       "        ></iframe>\n",
       "        "
      ],
      "text/plain": [
       "<IPython.lib.display.IFrame at 0x15260d5b220>"
      ]
     },
     "metadata": {},
     "output_type": "display_data"
    },
    {
     "data": {
      "text/plain": []
     },
     "execution_count": 14,
     "metadata": {},
     "output_type": "execute_result"
    }
   ],
   "source": [
    "dtale.show(df_tabelao)"
   ]
  },
  {
   "cell_type": "code",
   "execution_count": 15,
   "id": "82abfe1b",
   "metadata": {},
   "outputs": [],
   "source": [
    "# Salvando em CSV\n",
    "df_tabelao.to_csv('Tabela_unificada.csv', index=False)\n",
    "# Salvando em Excel\n",
    "df_tabelao.to_excel('Tabela_unificada.xlsx', index=False)"
   ]
  }
 ],
 "metadata": {
  "kernelspec": {
   "display_name": "Python 3 (ipykernel)",
   "language": "python",
   "name": "python3"
  },
  "language_info": {
   "codemirror_mode": {
    "name": "ipython",
    "version": 3
   },
   "file_extension": ".py",
   "mimetype": "text/x-python",
   "name": "python",
   "nbconvert_exporter": "python",
   "pygments_lexer": "ipython3",
   "version": "3.10.9"
  }
 },
 "nbformat": 4,
 "nbformat_minor": 5
}
